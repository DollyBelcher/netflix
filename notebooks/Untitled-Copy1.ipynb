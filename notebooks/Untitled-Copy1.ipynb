{
 "cells": [
  {
   "cell_type": "code",
   "execution_count": 1,
   "id": "71f6a6f5",
   "metadata": {},
   "outputs": [],
   "source": [
    "import pandas as pd\n",
    "from sklearn.neighbors import KNeighborsRegressor\n",
    "import numpy as np\n",
    "from sklearn.preprocessing import StandardScaler, OneHotEncoder\n",
    "from sklearn.impute import SimpleImputer\n",
    "import matplotlib.pyplot as plt"
   ]
  },
  {
   "cell_type": "code",
   "execution_count": 2,
   "id": "2bfb0fc4",
   "metadata": {},
   "outputs": [],
   "source": [
    "titles = pd.read_csv(\"../raw_data/titles.csv\", converters={'genres': pd.eval, 'production_countries': pd.eval})\n",
    "credits = pd.read_csv(\"../raw_data/credits.csv\")\n"
   ]
  },
  {
   "cell_type": "code",
   "execution_count": 3,
   "id": "e59f3588",
   "metadata": {},
   "outputs": [
    {
     "name": "stdout",
     "output_type": "stream",
     "text": [
      "<class 'pandas.core.frame.DataFrame'>\n",
      "RangeIndex: 5850 entries, 0 to 5849\n",
      "Data columns (total 15 columns):\n",
      " #   Column                Non-Null Count  Dtype  \n",
      "---  ------                --------------  -----  \n",
      " 0   id                    5850 non-null   object \n",
      " 1   title                 5849 non-null   object \n",
      " 2   type                  5850 non-null   object \n",
      " 3   description           5832 non-null   object \n",
      " 4   release_year          5850 non-null   int64  \n",
      " 5   age_certification     3231 non-null   object \n",
      " 6   runtime               5850 non-null   int64  \n",
      " 7   genres                5850 non-null   object \n",
      " 8   production_countries  5850 non-null   object \n",
      " 9   seasons               2106 non-null   float64\n",
      " 10  imdb_id               5447 non-null   object \n",
      " 11  imdb_score            5368 non-null   float64\n",
      " 12  imdb_votes            5352 non-null   float64\n",
      " 13  tmdb_popularity       5759 non-null   float64\n",
      " 14  tmdb_score            5539 non-null   float64\n",
      "dtypes: float64(5), int64(2), object(8)\n",
      "memory usage: 685.7+ KB\n"
     ]
    }
   ],
   "source": [
    "titles.info()"
   ]
  },
  {
   "cell_type": "code",
   "execution_count": 4,
   "id": "4674a6c5",
   "metadata": {},
   "outputs": [
    {
     "data": {
      "text/plain": [
       "id                         0\n",
       "title                      1\n",
       "type                       0\n",
       "description               18\n",
       "release_year               0\n",
       "age_certification       2619\n",
       "runtime                    0\n",
       "genres                     0\n",
       "production_countries       0\n",
       "seasons                 3744\n",
       "imdb_id                  403\n",
       "imdb_score               482\n",
       "imdb_votes               498\n",
       "tmdb_popularity           91\n",
       "tmdb_score               311\n",
       "dtype: int64"
      ]
     },
     "execution_count": 4,
     "metadata": {},
     "output_type": "execute_result"
    }
   ],
   "source": [
    "titles.isna().sum()"
   ]
  },
  {
   "cell_type": "code",
   "execution_count": 5,
   "id": "cddd029e",
   "metadata": {
    "scrolled": true
   },
   "outputs": [
    {
     "data": {
      "text/plain": [
       "person_id       0\n",
       "id              0\n",
       "name            0\n",
       "character    9772\n",
       "role            0\n",
       "dtype: int64"
      ]
     },
     "execution_count": 5,
     "metadata": {},
     "output_type": "execute_result"
    }
   ],
   "source": [
    "credits.isna().sum()"
   ]
  },
  {
   "cell_type": "code",
   "execution_count": 6,
   "id": "b085e0cb",
   "metadata": {},
   "outputs": [],
   "source": [
    "titles = titles.explode('genres')"
   ]
  },
  {
   "cell_type": "code",
   "execution_count": 7,
   "id": "87cfbacc",
   "metadata": {},
   "outputs": [
    {
     "data": {
      "text/html": [
       "<div>\n",
       "<style scoped>\n",
       "    .dataframe tbody tr th:only-of-type {\n",
       "        vertical-align: middle;\n",
       "    }\n",
       "\n",
       "    .dataframe tbody tr th {\n",
       "        vertical-align: top;\n",
       "    }\n",
       "\n",
       "    .dataframe thead th {\n",
       "        text-align: right;\n",
       "    }\n",
       "</style>\n",
       "<table border=\"1\" class=\"dataframe\">\n",
       "  <thead>\n",
       "    <tr style=\"text-align: right;\">\n",
       "      <th></th>\n",
       "      <th>id</th>\n",
       "      <th>title</th>\n",
       "      <th>type</th>\n",
       "      <th>description</th>\n",
       "      <th>release_year</th>\n",
       "      <th>age_certification</th>\n",
       "      <th>runtime</th>\n",
       "      <th>genres</th>\n",
       "      <th>production_countries</th>\n",
       "      <th>seasons</th>\n",
       "      <th>imdb_id</th>\n",
       "      <th>imdb_score</th>\n",
       "      <th>imdb_votes</th>\n",
       "      <th>tmdb_popularity</th>\n",
       "      <th>tmdb_score</th>\n",
       "    </tr>\n",
       "  </thead>\n",
       "  <tbody>\n",
       "    <tr>\n",
       "      <th>0</th>\n",
       "      <td>ts300399</td>\n",
       "      <td>Five Came Back: The Reference Films</td>\n",
       "      <td>SHOW</td>\n",
       "      <td>This collection includes 12 World War II-era p...</td>\n",
       "      <td>1945</td>\n",
       "      <td>TV-MA</td>\n",
       "      <td>51</td>\n",
       "      <td>documentation</td>\n",
       "      <td>[US]</td>\n",
       "      <td>1.0</td>\n",
       "      <td>NaN</td>\n",
       "      <td>NaN</td>\n",
       "      <td>NaN</td>\n",
       "      <td>0.600</td>\n",
       "      <td>NaN</td>\n",
       "    </tr>\n",
       "    <tr>\n",
       "      <th>1</th>\n",
       "      <td>tm84618</td>\n",
       "      <td>Taxi Driver</td>\n",
       "      <td>MOVIE</td>\n",
       "      <td>A mentally unstable Vietnam War veteran works ...</td>\n",
       "      <td>1976</td>\n",
       "      <td>R</td>\n",
       "      <td>114</td>\n",
       "      <td>drama</td>\n",
       "      <td>[US]</td>\n",
       "      <td>NaN</td>\n",
       "      <td>tt0075314</td>\n",
       "      <td>8.2</td>\n",
       "      <td>808582.0</td>\n",
       "      <td>40.965</td>\n",
       "      <td>8.179</td>\n",
       "    </tr>\n",
       "    <tr>\n",
       "      <th>1</th>\n",
       "      <td>tm84618</td>\n",
       "      <td>Taxi Driver</td>\n",
       "      <td>MOVIE</td>\n",
       "      <td>A mentally unstable Vietnam War veteran works ...</td>\n",
       "      <td>1976</td>\n",
       "      <td>R</td>\n",
       "      <td>114</td>\n",
       "      <td>crime</td>\n",
       "      <td>[US]</td>\n",
       "      <td>NaN</td>\n",
       "      <td>tt0075314</td>\n",
       "      <td>8.2</td>\n",
       "      <td>808582.0</td>\n",
       "      <td>40.965</td>\n",
       "      <td>8.179</td>\n",
       "    </tr>\n",
       "    <tr>\n",
       "      <th>2</th>\n",
       "      <td>tm154986</td>\n",
       "      <td>Deliverance</td>\n",
       "      <td>MOVIE</td>\n",
       "      <td>Intent on seeing the Cahulawassee River before...</td>\n",
       "      <td>1972</td>\n",
       "      <td>R</td>\n",
       "      <td>109</td>\n",
       "      <td>drama</td>\n",
       "      <td>[US]</td>\n",
       "      <td>NaN</td>\n",
       "      <td>tt0068473</td>\n",
       "      <td>7.7</td>\n",
       "      <td>107673.0</td>\n",
       "      <td>10.010</td>\n",
       "      <td>7.300</td>\n",
       "    </tr>\n",
       "    <tr>\n",
       "      <th>2</th>\n",
       "      <td>tm154986</td>\n",
       "      <td>Deliverance</td>\n",
       "      <td>MOVIE</td>\n",
       "      <td>Intent on seeing the Cahulawassee River before...</td>\n",
       "      <td>1972</td>\n",
       "      <td>R</td>\n",
       "      <td>109</td>\n",
       "      <td>action</td>\n",
       "      <td>[US]</td>\n",
       "      <td>NaN</td>\n",
       "      <td>tt0068473</td>\n",
       "      <td>7.7</td>\n",
       "      <td>107673.0</td>\n",
       "      <td>10.010</td>\n",
       "      <td>7.300</td>\n",
       "    </tr>\n",
       "    <tr>\n",
       "      <th>...</th>\n",
       "      <td>...</td>\n",
       "      <td>...</td>\n",
       "      <td>...</td>\n",
       "      <td>...</td>\n",
       "      <td>...</td>\n",
       "      <td>...</td>\n",
       "      <td>...</td>\n",
       "      <td>...</td>\n",
       "      <td>...</td>\n",
       "      <td>...</td>\n",
       "      <td>...</td>\n",
       "      <td>...</td>\n",
       "      <td>...</td>\n",
       "      <td>...</td>\n",
       "      <td>...</td>\n",
       "    </tr>\n",
       "    <tr>\n",
       "      <th>5847</th>\n",
       "      <td>tm1059008</td>\n",
       "      <td>Lokillo</td>\n",
       "      <td>MOVIE</td>\n",
       "      <td>A controversial TV host and comedian who has b...</td>\n",
       "      <td>2021</td>\n",
       "      <td>NaN</td>\n",
       "      <td>90</td>\n",
       "      <td>comedy</td>\n",
       "      <td>[CO]</td>\n",
       "      <td>NaN</td>\n",
       "      <td>tt14585902</td>\n",
       "      <td>3.8</td>\n",
       "      <td>68.0</td>\n",
       "      <td>26.005</td>\n",
       "      <td>6.300</td>\n",
       "    </tr>\n",
       "    <tr>\n",
       "      <th>5848</th>\n",
       "      <td>tm1035612</td>\n",
       "      <td>Dad Stop Embarrassing Me - The Afterparty</td>\n",
       "      <td>MOVIE</td>\n",
       "      <td>Jamie Foxx, David Alan Grier and more from the...</td>\n",
       "      <td>2021</td>\n",
       "      <td>PG-13</td>\n",
       "      <td>37</td>\n",
       "      <td>NaN</td>\n",
       "      <td>[US]</td>\n",
       "      <td>NaN</td>\n",
       "      <td>NaN</td>\n",
       "      <td>NaN</td>\n",
       "      <td>NaN</td>\n",
       "      <td>1.296</td>\n",
       "      <td>10.000</td>\n",
       "    </tr>\n",
       "    <tr>\n",
       "      <th>5849</th>\n",
       "      <td>ts271048</td>\n",
       "      <td>Mighty Little Bheem: Kite Festival</td>\n",
       "      <td>SHOW</td>\n",
       "      <td>With winter behind them, Bheem and his townspe...</td>\n",
       "      <td>2021</td>\n",
       "      <td>NaN</td>\n",
       "      <td>7</td>\n",
       "      <td>family</td>\n",
       "      <td>[]</td>\n",
       "      <td>1.0</td>\n",
       "      <td>tt13711094</td>\n",
       "      <td>7.8</td>\n",
       "      <td>18.0</td>\n",
       "      <td>2.289</td>\n",
       "      <td>10.000</td>\n",
       "    </tr>\n",
       "    <tr>\n",
       "      <th>5849</th>\n",
       "      <td>ts271048</td>\n",
       "      <td>Mighty Little Bheem: Kite Festival</td>\n",
       "      <td>SHOW</td>\n",
       "      <td>With winter behind them, Bheem and his townspe...</td>\n",
       "      <td>2021</td>\n",
       "      <td>NaN</td>\n",
       "      <td>7</td>\n",
       "      <td>animation</td>\n",
       "      <td>[]</td>\n",
       "      <td>1.0</td>\n",
       "      <td>tt13711094</td>\n",
       "      <td>7.8</td>\n",
       "      <td>18.0</td>\n",
       "      <td>2.289</td>\n",
       "      <td>10.000</td>\n",
       "    </tr>\n",
       "    <tr>\n",
       "      <th>5849</th>\n",
       "      <td>ts271048</td>\n",
       "      <td>Mighty Little Bheem: Kite Festival</td>\n",
       "      <td>SHOW</td>\n",
       "      <td>With winter behind them, Bheem and his townspe...</td>\n",
       "      <td>2021</td>\n",
       "      <td>NaN</td>\n",
       "      <td>7</td>\n",
       "      <td>comedy</td>\n",
       "      <td>[]</td>\n",
       "      <td>1.0</td>\n",
       "      <td>tt13711094</td>\n",
       "      <td>7.8</td>\n",
       "      <td>18.0</td>\n",
       "      <td>2.289</td>\n",
       "      <td>10.000</td>\n",
       "    </tr>\n",
       "  </tbody>\n",
       "</table>\n",
       "<p>15147 rows × 15 columns</p>\n",
       "</div>"
      ],
      "text/plain": [
       "             id                                      title   type  \\\n",
       "0      ts300399        Five Came Back: The Reference Films   SHOW   \n",
       "1       tm84618                                Taxi Driver  MOVIE   \n",
       "1       tm84618                                Taxi Driver  MOVIE   \n",
       "2      tm154986                                Deliverance  MOVIE   \n",
       "2      tm154986                                Deliverance  MOVIE   \n",
       "...         ...                                        ...    ...   \n",
       "5847  tm1059008                                    Lokillo  MOVIE   \n",
       "5848  tm1035612  Dad Stop Embarrassing Me - The Afterparty  MOVIE   \n",
       "5849   ts271048         Mighty Little Bheem: Kite Festival   SHOW   \n",
       "5849   ts271048         Mighty Little Bheem: Kite Festival   SHOW   \n",
       "5849   ts271048         Mighty Little Bheem: Kite Festival   SHOW   \n",
       "\n",
       "                                            description  release_year  \\\n",
       "0     This collection includes 12 World War II-era p...          1945   \n",
       "1     A mentally unstable Vietnam War veteran works ...          1976   \n",
       "1     A mentally unstable Vietnam War veteran works ...          1976   \n",
       "2     Intent on seeing the Cahulawassee River before...          1972   \n",
       "2     Intent on seeing the Cahulawassee River before...          1972   \n",
       "...                                                 ...           ...   \n",
       "5847  A controversial TV host and comedian who has b...          2021   \n",
       "5848  Jamie Foxx, David Alan Grier and more from the...          2021   \n",
       "5849  With winter behind them, Bheem and his townspe...          2021   \n",
       "5849  With winter behind them, Bheem and his townspe...          2021   \n",
       "5849  With winter behind them, Bheem and his townspe...          2021   \n",
       "\n",
       "     age_certification  runtime         genres production_countries  seasons  \\\n",
       "0                TV-MA       51  documentation                 [US]      1.0   \n",
       "1                    R      114          drama                 [US]      NaN   \n",
       "1                    R      114          crime                 [US]      NaN   \n",
       "2                    R      109          drama                 [US]      NaN   \n",
       "2                    R      109         action                 [US]      NaN   \n",
       "...                ...      ...            ...                  ...      ...   \n",
       "5847               NaN       90         comedy                 [CO]      NaN   \n",
       "5848             PG-13       37            NaN                 [US]      NaN   \n",
       "5849               NaN        7         family                   []      1.0   \n",
       "5849               NaN        7      animation                   []      1.0   \n",
       "5849               NaN        7         comedy                   []      1.0   \n",
       "\n",
       "         imdb_id  imdb_score  imdb_votes  tmdb_popularity  tmdb_score  \n",
       "0            NaN         NaN         NaN            0.600         NaN  \n",
       "1      tt0075314         8.2    808582.0           40.965       8.179  \n",
       "1      tt0075314         8.2    808582.0           40.965       8.179  \n",
       "2      tt0068473         7.7    107673.0           10.010       7.300  \n",
       "2      tt0068473         7.7    107673.0           10.010       7.300  \n",
       "...          ...         ...         ...              ...         ...  \n",
       "5847  tt14585902         3.8        68.0           26.005       6.300  \n",
       "5848         NaN         NaN         NaN            1.296      10.000  \n",
       "5849  tt13711094         7.8        18.0            2.289      10.000  \n",
       "5849  tt13711094         7.8        18.0            2.289      10.000  \n",
       "5849  tt13711094         7.8        18.0            2.289      10.000  \n",
       "\n",
       "[15147 rows x 15 columns]"
      ]
     },
     "execution_count": 7,
     "metadata": {},
     "output_type": "execute_result"
    }
   ],
   "source": [
    "titles"
   ]
  },
  {
   "cell_type": "markdown",
   "id": "937259f2",
   "metadata": {},
   "source": [
    "#### Do you prefer movies or tv shows?"
   ]
  },
  {
   "cell_type": "code",
   "execution_count": 17,
   "id": "7d23565a",
   "metadata": {},
   "outputs": [],
   "source": [
    "movie_or_tv = \"MOVIE\"\n",
    "titles = titles[titles[\"type\"]==movie_or_tv]"
   ]
  },
  {
   "cell_type": "markdown",
   "id": "4858da83",
   "metadata": {},
   "source": [
    "#### what genre of movie do you prefer?"
   ]
  },
  {
   "cell_type": "code",
   "execution_count": 8,
   "id": "7beb6dbc",
   "metadata": {},
   "outputs": [],
   "source": [
    "genres = list(titles[\"genres\"].unique())\n",
    "genre_choice = [genres[7]]"
   ]
  },
  {
   "cell_type": "code",
   "execution_count": 10,
   "id": "124b35b0",
   "metadata": {},
   "outputs": [
    {
     "data": {
      "text/plain": [
       "['documentation',\n",
       " 'drama',\n",
       " 'crime',\n",
       " 'action',\n",
       " 'thriller',\n",
       " 'european',\n",
       " 'fantasy',\n",
       " 'comedy',\n",
       " 'war',\n",
       " 'romance',\n",
       " 'western',\n",
       " 'history',\n",
       " 'music',\n",
       " 'family',\n",
       " 'horror',\n",
       " 'scifi',\n",
       " 'animation',\n",
       " 'reality',\n",
       " 'sport',\n",
       " nan]"
      ]
     },
     "execution_count": 10,
     "metadata": {},
     "output_type": "execute_result"
    }
   ],
   "source": [
    "genres"
   ]
  },
  {
   "cell_type": "code",
   "execution_count": 19,
   "id": "e40886e5",
   "metadata": {},
   "outputs": [],
   "source": [
    "titles_filtered = titles[titles[\"genres\"].isin(genre_choice)]"
   ]
  },
  {
   "cell_type": "markdown",
   "id": "2ea0cb35",
   "metadata": {},
   "source": [
    "#### Do you prefer movies made in the 21st or 20th century?"
   ]
  },
  {
   "cell_type": "code",
   "execution_count": 20,
   "id": "2cf19ad5",
   "metadata": {},
   "outputs": [
    {
     "ename": "NameError",
     "evalue": "name 'tittitles_filteredles' is not defined",
     "output_type": "error",
     "traceback": [
      "\u001b[0;31m---------------------------------------------------------------------------\u001b[0m",
      "\u001b[0;31mNameError\u001b[0m                                 Traceback (most recent call last)",
      "Cell \u001b[0;32mIn[20], line 4\u001b[0m\n\u001b[1;32m      1\u001b[0m answer_1 \u001b[38;5;241m=\u001b[39m \u001b[38;5;124m\"\u001b[39m\u001b[38;5;124myes\u001b[39m\u001b[38;5;124m\"\u001b[39m\n\u001b[1;32m      3\u001b[0m \u001b[38;5;28;01mif\u001b[39;00m answer_1 \u001b[38;5;241m==\u001b[39m \u001b[38;5;124m\"\u001b[39m\u001b[38;5;124myes\u001b[39m\u001b[38;5;124m\"\u001b[39m:\n\u001b[0;32m----> 4\u001b[0m     titles_filtered \u001b[38;5;241m=\u001b[39m titles_filtered[\u001b[43mtittitles_filteredles\u001b[49m[\u001b[38;5;124m\"\u001b[39m\u001b[38;5;124mrelease_year\u001b[39m\u001b[38;5;124m\"\u001b[39m]\u001b[38;5;241m>\u001b[39m\u001b[38;5;241m=\u001b[39m\u001b[38;5;241m2000\u001b[39m]\n\u001b[1;32m      5\u001b[0m \u001b[38;5;28;01melse\u001b[39;00m:\n\u001b[1;32m      6\u001b[0m     titles_filtered \u001b[38;5;241m=\u001b[39m titles_filtered[titles_filtered[\u001b[38;5;124m\"\u001b[39m\u001b[38;5;124mrelease_year\u001b[39m\u001b[38;5;124m\"\u001b[39m]\u001b[38;5;241m<\u001b[39m\u001b[38;5;241m2000\u001b[39m]\n",
      "\u001b[0;31mNameError\u001b[0m: name 'tittitles_filteredles' is not defined"
     ]
    }
   ],
   "source": [
    "answer_1 = \"yes\"\n",
    "\n",
    "if answer_1 == \"yes\":\n",
    "    titles_filtered = titles_filtered[tittitles_filteredles[\"release_year\"]>=2000]\n",
    "else:\n",
    "    titles_filtered = titles_filtered[titles_filtered[\"release_year\"]<2000]"
   ]
  },
  {
   "cell_type": "markdown",
   "id": "5786ff2a",
   "metadata": {},
   "source": [
    "#### Choose your favourite show out of the following options"
   ]
  },
  {
   "cell_type": "code",
   "execution_count": 21,
   "id": "72959b14",
   "metadata": {},
   "outputs": [],
   "source": [
    "choices = list(titles_filtered.sort_values(\"imdb_score\", ascending=False).iloc[:50][\"title\"])"
   ]
  },
  {
   "cell_type": "code",
   "execution_count": 22,
   "id": "40142879",
   "metadata": {},
   "outputs": [],
   "source": [
    "choices = list(dict.fromkeys(choices))[:20]"
   ]
  },
  {
   "cell_type": "code",
   "execution_count": 23,
   "id": "b9367e92",
   "metadata": {},
   "outputs": [
    {
     "data": {
      "text/plain": [
       "['Kannathil Muthamittal',\n",
       " 'Full Metal Jacket',\n",
       " 'Virunga',\n",
       " 'The Imitation Game',\n",
       " 'The Last Days',\n",
       " 'Dunkirk',\n",
       " 'Lakshya',\n",
       " 'Beasts of No Nation',\n",
       " 'The Dirty Dozen',\n",
       " 'Saladin the Victorious',\n",
       " 'West Beirut',\n",
       " 'Sir! No Sir!',\n",
       " 'Mobile Suit Gundam III: Encounters in Space',\n",
       " 'Jodhaa Akbar',\n",
       " 'City of Joy',\n",
       " 'Image of Victory',\n",
       " 'Omar',\n",
       " 'Les Misérables',\n",
       " 'The Guns of Navarone',\n",
       " 'Berserk: The Golden Age Arc I - The Egg of the King']"
      ]
     },
     "execution_count": 23,
     "metadata": {},
     "output_type": "execute_result"
    }
   ],
   "source": [
    "choices"
   ]
  },
  {
   "cell_type": "code",
   "execution_count": 24,
   "id": "e17484b6",
   "metadata": {},
   "outputs": [],
   "source": [
    "answer = choices[2]"
   ]
  },
  {
   "cell_type": "code",
   "execution_count": 26,
   "id": "3307ca5b",
   "metadata": {},
   "outputs": [
    {
     "data": {
      "text/plain": [
       "'Virunga'"
      ]
     },
     "execution_count": 26,
     "metadata": {},
     "output_type": "execute_result"
    }
   ],
   "source": [
    "answer"
   ]
  },
  {
   "cell_type": "code",
   "execution_count": 29,
   "id": "b1cc6980",
   "metadata": {},
   "outputs": [
    {
     "data": {
      "text/html": [
       "<div>\n",
       "<style scoped>\n",
       "    .dataframe tbody tr th:only-of-type {\n",
       "        vertical-align: middle;\n",
       "    }\n",
       "\n",
       "    .dataframe tbody tr th {\n",
       "        vertical-align: top;\n",
       "    }\n",
       "\n",
       "    .dataframe thead th {\n",
       "        text-align: right;\n",
       "    }\n",
       "</style>\n",
       "<table border=\"1\" class=\"dataframe\">\n",
       "  <thead>\n",
       "    <tr style=\"text-align: right;\">\n",
       "      <th></th>\n",
       "      <th>id</th>\n",
       "      <th>title</th>\n",
       "      <th>type</th>\n",
       "      <th>description</th>\n",
       "      <th>release_year</th>\n",
       "      <th>age_certification</th>\n",
       "      <th>runtime</th>\n",
       "      <th>genres</th>\n",
       "      <th>production_countries</th>\n",
       "      <th>seasons</th>\n",
       "      <th>imdb_id</th>\n",
       "      <th>imdb_score</th>\n",
       "      <th>imdb_votes</th>\n",
       "      <th>tmdb_popularity</th>\n",
       "      <th>tmdb_score</th>\n",
       "    </tr>\n",
       "  </thead>\n",
       "  <tbody>\n",
       "    <tr>\n",
       "      <th>1</th>\n",
       "      <td>tm84618</td>\n",
       "      <td>Taxi Driver</td>\n",
       "      <td>MOVIE</td>\n",
       "      <td>A mentally unstable Vietnam War veteran works ...</td>\n",
       "      <td>1976</td>\n",
       "      <td>R</td>\n",
       "      <td>114</td>\n",
       "      <td>drama</td>\n",
       "      <td>[US]</td>\n",
       "      <td>NaN</td>\n",
       "      <td>tt0075314</td>\n",
       "      <td>8.2</td>\n",
       "      <td>808582.0</td>\n",
       "      <td>40.965</td>\n",
       "      <td>8.179</td>\n",
       "    </tr>\n",
       "    <tr>\n",
       "      <th>1</th>\n",
       "      <td>tm84618</td>\n",
       "      <td>Taxi Driver</td>\n",
       "      <td>MOVIE</td>\n",
       "      <td>A mentally unstable Vietnam War veteran works ...</td>\n",
       "      <td>1976</td>\n",
       "      <td>R</td>\n",
       "      <td>114</td>\n",
       "      <td>crime</td>\n",
       "      <td>[US]</td>\n",
       "      <td>NaN</td>\n",
       "      <td>tt0075314</td>\n",
       "      <td>8.2</td>\n",
       "      <td>808582.0</td>\n",
       "      <td>40.965</td>\n",
       "      <td>8.179</td>\n",
       "    </tr>\n",
       "    <tr>\n",
       "      <th>2</th>\n",
       "      <td>tm154986</td>\n",
       "      <td>Deliverance</td>\n",
       "      <td>MOVIE</td>\n",
       "      <td>Intent on seeing the Cahulawassee River before...</td>\n",
       "      <td>1972</td>\n",
       "      <td>R</td>\n",
       "      <td>109</td>\n",
       "      <td>drama</td>\n",
       "      <td>[US]</td>\n",
       "      <td>NaN</td>\n",
       "      <td>tt0068473</td>\n",
       "      <td>7.7</td>\n",
       "      <td>107673.0</td>\n",
       "      <td>10.010</td>\n",
       "      <td>7.300</td>\n",
       "    </tr>\n",
       "    <tr>\n",
       "      <th>2</th>\n",
       "      <td>tm154986</td>\n",
       "      <td>Deliverance</td>\n",
       "      <td>MOVIE</td>\n",
       "      <td>Intent on seeing the Cahulawassee River before...</td>\n",
       "      <td>1972</td>\n",
       "      <td>R</td>\n",
       "      <td>109</td>\n",
       "      <td>action</td>\n",
       "      <td>[US]</td>\n",
       "      <td>NaN</td>\n",
       "      <td>tt0068473</td>\n",
       "      <td>7.7</td>\n",
       "      <td>107673.0</td>\n",
       "      <td>10.010</td>\n",
       "      <td>7.300</td>\n",
       "    </tr>\n",
       "    <tr>\n",
       "      <th>2</th>\n",
       "      <td>tm154986</td>\n",
       "      <td>Deliverance</td>\n",
       "      <td>MOVIE</td>\n",
       "      <td>Intent on seeing the Cahulawassee River before...</td>\n",
       "      <td>1972</td>\n",
       "      <td>R</td>\n",
       "      <td>109</td>\n",
       "      <td>thriller</td>\n",
       "      <td>[US]</td>\n",
       "      <td>NaN</td>\n",
       "      <td>tt0068473</td>\n",
       "      <td>7.7</td>\n",
       "      <td>107673.0</td>\n",
       "      <td>10.010</td>\n",
       "      <td>7.300</td>\n",
       "    </tr>\n",
       "    <tr>\n",
       "      <th>...</th>\n",
       "      <td>...</td>\n",
       "      <td>...</td>\n",
       "      <td>...</td>\n",
       "      <td>...</td>\n",
       "      <td>...</td>\n",
       "      <td>...</td>\n",
       "      <td>...</td>\n",
       "      <td>...</td>\n",
       "      <td>...</td>\n",
       "      <td>...</td>\n",
       "      <td>...</td>\n",
       "      <td>...</td>\n",
       "      <td>...</td>\n",
       "      <td>...</td>\n",
       "      <td>...</td>\n",
       "    </tr>\n",
       "    <tr>\n",
       "      <th>5845</th>\n",
       "      <td>tm1014599</td>\n",
       "      <td>Fine Wine</td>\n",
       "      <td>MOVIE</td>\n",
       "      <td>A beautiful love story that can happen between...</td>\n",
       "      <td>2021</td>\n",
       "      <td>NaN</td>\n",
       "      <td>100</td>\n",
       "      <td>romance</td>\n",
       "      <td>[NG]</td>\n",
       "      <td>NaN</td>\n",
       "      <td>tt13857480</td>\n",
       "      <td>6.8</td>\n",
       "      <td>45.0</td>\n",
       "      <td>1.466</td>\n",
       "      <td>NaN</td>\n",
       "    </tr>\n",
       "    <tr>\n",
       "      <th>5845</th>\n",
       "      <td>tm1014599</td>\n",
       "      <td>Fine Wine</td>\n",
       "      <td>MOVIE</td>\n",
       "      <td>A beautiful love story that can happen between...</td>\n",
       "      <td>2021</td>\n",
       "      <td>NaN</td>\n",
       "      <td>100</td>\n",
       "      <td>drama</td>\n",
       "      <td>[NG]</td>\n",
       "      <td>NaN</td>\n",
       "      <td>tt13857480</td>\n",
       "      <td>6.8</td>\n",
       "      <td>45.0</td>\n",
       "      <td>1.466</td>\n",
       "      <td>NaN</td>\n",
       "    </tr>\n",
       "    <tr>\n",
       "      <th>5846</th>\n",
       "      <td>tm898842</td>\n",
       "      <td>C/O Kaadhal</td>\n",
       "      <td>MOVIE</td>\n",
       "      <td>A heart warming film that explores the concept...</td>\n",
       "      <td>2021</td>\n",
       "      <td>NaN</td>\n",
       "      <td>134</td>\n",
       "      <td>drama</td>\n",
       "      <td>[]</td>\n",
       "      <td>NaN</td>\n",
       "      <td>tt11803618</td>\n",
       "      <td>7.7</td>\n",
       "      <td>348.0</td>\n",
       "      <td>NaN</td>\n",
       "      <td>NaN</td>\n",
       "    </tr>\n",
       "    <tr>\n",
       "      <th>5847</th>\n",
       "      <td>tm1059008</td>\n",
       "      <td>Lokillo</td>\n",
       "      <td>MOVIE</td>\n",
       "      <td>A controversial TV host and comedian who has b...</td>\n",
       "      <td>2021</td>\n",
       "      <td>NaN</td>\n",
       "      <td>90</td>\n",
       "      <td>comedy</td>\n",
       "      <td>[CO]</td>\n",
       "      <td>NaN</td>\n",
       "      <td>tt14585902</td>\n",
       "      <td>3.8</td>\n",
       "      <td>68.0</td>\n",
       "      <td>26.005</td>\n",
       "      <td>6.300</td>\n",
       "    </tr>\n",
       "    <tr>\n",
       "      <th>5848</th>\n",
       "      <td>tm1035612</td>\n",
       "      <td>Dad Stop Embarrassing Me - The Afterparty</td>\n",
       "      <td>MOVIE</td>\n",
       "      <td>Jamie Foxx, David Alan Grier and more from the...</td>\n",
       "      <td>2021</td>\n",
       "      <td>PG-13</td>\n",
       "      <td>37</td>\n",
       "      <td>NaN</td>\n",
       "      <td>[US]</td>\n",
       "      <td>NaN</td>\n",
       "      <td>NaN</td>\n",
       "      <td>NaN</td>\n",
       "      <td>NaN</td>\n",
       "      <td>1.296</td>\n",
       "      <td>10.000</td>\n",
       "    </tr>\n",
       "  </tbody>\n",
       "</table>\n",
       "<p>9224 rows × 15 columns</p>\n",
       "</div>"
      ],
      "text/plain": [
       "             id                                      title   type  \\\n",
       "1       tm84618                                Taxi Driver  MOVIE   \n",
       "1       tm84618                                Taxi Driver  MOVIE   \n",
       "2      tm154986                                Deliverance  MOVIE   \n",
       "2      tm154986                                Deliverance  MOVIE   \n",
       "2      tm154986                                Deliverance  MOVIE   \n",
       "...         ...                                        ...    ...   \n",
       "5845  tm1014599                                  Fine Wine  MOVIE   \n",
       "5845  tm1014599                                  Fine Wine  MOVIE   \n",
       "5846   tm898842                                C/O Kaadhal  MOVIE   \n",
       "5847  tm1059008                                    Lokillo  MOVIE   \n",
       "5848  tm1035612  Dad Stop Embarrassing Me - The Afterparty  MOVIE   \n",
       "\n",
       "                                            description  release_year  \\\n",
       "1     A mentally unstable Vietnam War veteran works ...          1976   \n",
       "1     A mentally unstable Vietnam War veteran works ...          1976   \n",
       "2     Intent on seeing the Cahulawassee River before...          1972   \n",
       "2     Intent on seeing the Cahulawassee River before...          1972   \n",
       "2     Intent on seeing the Cahulawassee River before...          1972   \n",
       "...                                                 ...           ...   \n",
       "5845  A beautiful love story that can happen between...          2021   \n",
       "5845  A beautiful love story that can happen between...          2021   \n",
       "5846  A heart warming film that explores the concept...          2021   \n",
       "5847  A controversial TV host and comedian who has b...          2021   \n",
       "5848  Jamie Foxx, David Alan Grier and more from the...          2021   \n",
       "\n",
       "     age_certification  runtime    genres production_countries  seasons  \\\n",
       "1                    R      114     drama                 [US]      NaN   \n",
       "1                    R      114     crime                 [US]      NaN   \n",
       "2                    R      109     drama                 [US]      NaN   \n",
       "2                    R      109    action                 [US]      NaN   \n",
       "2                    R      109  thriller                 [US]      NaN   \n",
       "...                ...      ...       ...                  ...      ...   \n",
       "5845               NaN      100   romance                 [NG]      NaN   \n",
       "5845               NaN      100     drama                 [NG]      NaN   \n",
       "5846               NaN      134     drama                   []      NaN   \n",
       "5847               NaN       90    comedy                 [CO]      NaN   \n",
       "5848             PG-13       37       NaN                 [US]      NaN   \n",
       "\n",
       "         imdb_id  imdb_score  imdb_votes  tmdb_popularity  tmdb_score  \n",
       "1      tt0075314         8.2    808582.0           40.965       8.179  \n",
       "1      tt0075314         8.2    808582.0           40.965       8.179  \n",
       "2      tt0068473         7.7    107673.0           10.010       7.300  \n",
       "2      tt0068473         7.7    107673.0           10.010       7.300  \n",
       "2      tt0068473         7.7    107673.0           10.010       7.300  \n",
       "...          ...         ...         ...              ...         ...  \n",
       "5845  tt13857480         6.8        45.0            1.466         NaN  \n",
       "5845  tt13857480         6.8        45.0            1.466         NaN  \n",
       "5846  tt11803618         7.7       348.0              NaN         NaN  \n",
       "5847  tt14585902         3.8        68.0           26.005       6.300  \n",
       "5848         NaN         NaN         NaN            1.296      10.000  \n",
       "\n",
       "[9224 rows x 15 columns]"
      ]
     },
     "execution_count": 29,
     "metadata": {},
     "output_type": "execute_result"
    }
   ],
   "source": [
    "titles"
   ]
  },
  {
   "cell_type": "markdown",
   "id": "79c46b4d",
   "metadata": {},
   "source": [
    "### Tidying titles data\n",
    "#### drop row with *NaN* value for title"
   ]
  },
  {
   "cell_type": "code",
   "execution_count": null,
   "id": "3644f933",
   "metadata": {},
   "outputs": [],
   "source": [
    "titles = titles.dropna(subset=[\"title\"])"
   ]
  },
  {
   "cell_type": "markdown",
   "id": "83bc5b6a",
   "metadata": {},
   "source": [
    "#### Imput imdb scores"
   ]
  },
  {
   "cell_type": "code",
   "execution_count": null,
   "id": "33f21c65",
   "metadata": {},
   "outputs": [],
   "source": [
    "impute_columns = [\"imdb_score\", \"tmdb_popularity\", \"tmdb_score\"]\n",
    "impute_df = titles[impute_columns]"
   ]
  },
  {
   "cell_type": "code",
   "execution_count": null,
   "id": "1de0fd20",
   "metadata": {},
   "outputs": [],
   "source": [
    "imp_mean = SimpleImputer(missing_values=np.nan, strategy='mean')\n",
    "titles[impute_columns] = imp_mean.fit_transform(impute_df)"
   ]
  },
  {
   "cell_type": "markdown",
   "id": "32d799b9",
   "metadata": {},
   "source": [
    "#### Drop columns age_certification and seasons"
   ]
  },
  {
   "cell_type": "code",
   "execution_count": null,
   "id": "8bb23637",
   "metadata": {},
   "outputs": [],
   "source": [
    "titles = titles.drop(columns=[\"age_certification\", \"seasons\", \"imdb_id\", \"imdb_votes\"])"
   ]
  },
  {
   "cell_type": "markdown",
   "id": "1fe93f27",
   "metadata": {},
   "source": [
    "#### Drop rows which have empty list in genres column"
   ]
  },
  {
   "cell_type": "code",
   "execution_count": null,
   "id": "578a057d",
   "metadata": {},
   "outputs": [],
   "source": [
    "titles = titles[titles.genres.str.len() != 0]"
   ]
  },
  {
   "cell_type": "markdown",
   "id": "5b0327c1",
   "metadata": {},
   "source": [
    "#### Drop rows which have no country"
   ]
  },
  {
   "cell_type": "code",
   "execution_count": null,
   "id": "2880ada7",
   "metadata": {
    "scrolled": true
   },
   "outputs": [],
   "source": [
    "titles = titles[titles.production_countries.str.len() != 0]"
   ]
  },
  {
   "cell_type": "markdown",
   "id": "d0db5b98",
   "metadata": {},
   "source": [
    "#### Scale numeric columns"
   ]
  },
  {
   "cell_type": "code",
   "execution_count": null,
   "id": "b220fb02",
   "metadata": {},
   "outputs": [],
   "source": [
    "numeric_columns = titles.select_dtypes(include=np.number)"
   ]
  },
  {
   "cell_type": "code",
   "execution_count": null,
   "id": "2e995617",
   "metadata": {},
   "outputs": [],
   "source": [
    "numeric_columns"
   ]
  },
  {
   "cell_type": "code",
   "execution_count": null,
   "id": "16c740c4",
   "metadata": {},
   "outputs": [],
   "source": [
    "column_names_numeric = numeric_columns.columns"
   ]
  },
  {
   "cell_type": "code",
   "execution_count": null,
   "id": "5a6c6a03",
   "metadata": {},
   "outputs": [],
   "source": [
    "scaler = StandardScaler()\n",
    "titles[column_names_numeric] = scaler.fit_transform(numeric_columns)"
   ]
  },
  {
   "cell_type": "markdown",
   "id": "9e4b9ca9",
   "metadata": {},
   "source": [
    "#### Create a new row for each genre"
   ]
  },
  {
   "cell_type": "code",
   "execution_count": null,
   "id": "1653c461",
   "metadata": {
    "scrolled": true
   },
   "outputs": [],
   "source": [
    "titles = titles.explode('genres')\n",
    "titles = titles.explode('production_countries')"
   ]
  },
  {
   "cell_type": "markdown",
   "id": "33666704",
   "metadata": {},
   "source": [
    "#### One Hot Encoder"
   ]
  },
  {
   "cell_type": "code",
   "execution_count": null,
   "id": "3a63f142",
   "metadata": {},
   "outputs": [],
   "source": [
    "ohe_list = [\"type\", \"genres\", \"production_countries\"]\n",
    "ohe_df = titles[ohe_list]\n",
    "titles = titles.drop(columns=ohe_list)"
   ]
  },
  {
   "cell_type": "code",
   "execution_count": null,
   "id": "def4ae2f",
   "metadata": {},
   "outputs": [],
   "source": [
    "ohe = OneHotEncoder(sparse=False)\n",
    "ohe.fit(ohe_df)\n",
    "titles[ohe.get_feature_names_out()] = ohe.transform(ohe_df)"
   ]
  },
  {
   "cell_type": "code",
   "execution_count": null,
   "id": "6e05ce5b",
   "metadata": {},
   "outputs": [],
   "source": [
    "X = titles.drop(columns=[\"title\", \"description\", \"id\"])\n",
    "y = titles[[\"title\"]]\n"
   ]
  },
  {
   "cell_type": "markdown",
   "id": "cd8ab3cc",
   "metadata": {},
   "source": [
    "# Sample questions"
   ]
  },
  {
   "cell_type": "markdown",
   "id": "30c770f8",
   "metadata": {},
   "source": [
    "#### Using KNN to decide which shows are closest"
   ]
  },
  {
   "cell_type": "code",
   "execution_count": null,
   "id": "831afb87",
   "metadata": {},
   "outputs": [],
   "source": [
    "X"
   ]
  },
  {
   "cell_type": "code",
   "execution_count": null,
   "id": "d3e1a2ee",
   "metadata": {},
   "outputs": [],
   "source": [
    "knn_model = KNeighborsRegressor().fit(X,y)"
   ]
  },
  {
   "cell_type": "code",
   "execution_count": null,
   "id": "be97ae14",
   "metadata": {},
   "outputs": [],
   "source": [
    "X_new = X.iloc[titles[titles[\"title\"]==answer].index.values]"
   ]
  },
  {
   "cell_type": "code",
   "execution_count": null,
   "id": "e9cc0533",
   "metadata": {},
   "outputs": [],
   "source": [
    "positions = knn_model.kneighbors(X_new,n_neighbors=20)[1]"
   ]
  },
  {
   "cell_type": "code",
   "execution_count": null,
   "id": "0798801a",
   "metadata": {},
   "outputs": [],
   "source": [
    "for position in positions[0]:\n",
    "    print(position)"
   ]
  },
  {
   "cell_type": "code",
   "execution_count": null,
   "id": "3973993e",
   "metadata": {},
   "outputs": [],
   "source": [
    "list_titles = []\n",
    "number_rounds = 0\n",
    "for position in positions[0]:\n",
    "    if number_rounds < 6:\n",
    "        if titles.iloc[position][\"title\"] not in list_titles:\n",
    "            print(titles.iloc[position][\"title\"])\n",
    "            list_titles.append(titles.iloc[position][\"title\"])\n",
    "            number_rounds += 1\n"
   ]
  },
  {
   "cell_type": "code",
   "execution_count": null,
   "id": "2266aad7",
   "metadata": {},
   "outputs": [],
   "source": [
    "list_titles[1:]"
   ]
  }
 ],
 "metadata": {
  "kernelspec": {
   "display_name": "Python 3 (ipykernel)",
   "language": "python",
   "name": "python3"
  },
  "language_info": {
   "codemirror_mode": {
    "name": "ipython",
    "version": 3
   },
   "file_extension": ".py",
   "mimetype": "text/x-python",
   "name": "python",
   "nbconvert_exporter": "python",
   "pygments_lexer": "ipython3",
   "version": "3.10.6"
  },
  "toc": {
   "base_numbering": 1,
   "nav_menu": {},
   "number_sections": true,
   "sideBar": true,
   "skip_h1_title": false,
   "title_cell": "Table of Contents",
   "title_sidebar": "Contents",
   "toc_cell": false,
   "toc_position": {},
   "toc_section_display": true,
   "toc_window_display": false
  }
 },
 "nbformat": 4,
 "nbformat_minor": 5
}
