{
 "cells": [
  {
   "cell_type": "code",
   "execution_count": 11,
   "id": "71f6a6f5",
   "metadata": {},
   "outputs": [],
   "source": [
    "import pandas as pd\n",
    "from sklearn.neighbors import KNeighborsRegressor\n",
    "import numpy as np\n",
    "from sklearn.preprocessing import StandardScaler, OneHotEncoder\n",
    "from sklearn.impute import SimpleImputer\n",
    "import matplotlib.pyplot as plt"
   ]
  },
  {
   "cell_type": "code",
   "execution_count": 12,
   "id": "2bfb0fc4",
   "metadata": {},
   "outputs": [],
   "source": [
    "titles = pd.read_csv(\"../raw_data/titles.csv\", converters={'genres': pd.eval, 'production_countries': pd.eval})\n",
    "credits = pd.read_csv(\"../raw_data/credits.csv\")\n"
   ]
  },
  {
   "cell_type": "code",
   "execution_count": 13,
   "id": "e59f3588",
   "metadata": {},
   "outputs": [],
   "source": [
    "titles.info()"
   ]
  },
  {
   "cell_type": "code",
   "execution_count": 14,
   "id": "6de731a9",
   "metadata": {},
   "outputs": [],
   "source": [
    "titles.isna().sum()"
   ]
  },
  {
   "cell_type": "code",
   "execution_count": 15,
   "id": "cddd029e",
   "metadata": {
    "scrolled": true
   },
   "outputs": [],
   "source": [
    "credits.isna().sum()"
   ]
  },
  {
   "cell_type": "code",
   "execution_count": 16,
   "id": "2f0317ff",
   "metadata": {},
   "outputs": [],
   "source": [
    "titles = titles.explode('genres')"
   ]
  },
  {
   "cell_type": "markdown",
   "id": "f15d1c64",
   "metadata": {},
   "source": [
    "#### Do you prefer movies or tv shows?"
   ]
  },
  {
   "cell_type": "code",
   "execution_count": 17,
   "id": "6faaebb7",
   "metadata": {},
   "outputs": [],
   "source": [
    "movie_or_tv = \"MOVIE\"\n",
    "titles = titles[titles[\"type\"]==movie_or_tv]"
   ]
  },
  {
   "cell_type": "markdown",
   "id": "0879799c",
   "metadata": {},
   "source": [
    "#### what genre of movie do you prefer?"
   ]
  },
  {
   "cell_type": "code",
   "execution_count": 18,
   "id": "661783b9",
   "metadata": {},
   "outputs": [],
   "source": [
    "genres = list(titles[\"genres\"].unique())\n",
    "genre_choice = [genres[7]]"
   ]
  },
  {
   "cell_type": "code",
   "execution_count": 19,
   "id": "df84b57e",
   "metadata": {},
   "outputs": [],
   "source": [
    "titles_filtered = titles[titles[\"genres\"].isin(genre_choice)]"
   ]
  },
  {
   "cell_type": "markdown",
   "id": "fefebc48",
   "metadata": {},
   "source": [
    "#### Do you prefer movies made in the 21st or 20th century?"
   ]
  },
  {
   "cell_type": "code",
   "execution_count": 20,
   "id": "33a1c18f",
   "metadata": {},
   "outputs": [],
   "source": [
    "answer_1 = \"yes\"\n",
    "\n",
    "if answer_1 == \"yes\":\n",
    "    titles_filtered = titles_filtered[tittitles_filteredles[\"release_year\"]>=2000]\n",
    "else:\n",
    "    titles_filtered = titles_filtered[titles_filtered[\"release_year\"]<2000]"
   ]
  },
  {
   "cell_type": "markdown",
   "id": "c947082a",
   "metadata": {},
   "source": [
    "#### Choose your favourite show out of the following options"
   ]
  },
  {
   "cell_type": "code",
   "execution_count": 21,
   "id": "29fbdbe9",
   "metadata": {},
   "outputs": [],
   "source": [
    "choices = list(titles_filtered.sort_values(\"imdb_score\", ascending=False).iloc[:50][\"title\"])"
   ]
  },
  {
   "cell_type": "code",
   "execution_count": 22,
   "id": "e1edc9a1",
   "metadata": {},
   "outputs": [],
   "source": [
    "choices = list(dict.fromkeys(choices))[:20]"
   ]
  },
  {
   "cell_type": "code",
   "execution_count": 23,
   "id": "affcbcc0",
   "metadata": {},
   "outputs": [],
   "source": [
    "choices"
   ]
  },
  {
   "cell_type": "code",
   "execution_count": 24,
   "id": "e85f3c29",
   "metadata": {},
   "outputs": [],
   "source": [
    "answer = choices[2]"
   ]
  },
  {
   "cell_type": "code",
   "execution_count": 26,
   "id": "d8664194",
   "metadata": {},
   "outputs": [],
   "source": [
    "answer"
   ]
  },
  {
   "cell_type": "code",
   "execution_count": 29,
   "id": "57a66c3e",
   "metadata": {},
   "outputs": [],
   "source": [
    "titles"
   ]
  },
  {
   "cell_type": "markdown",
   "id": "79c46b4d",
   "metadata": {},
   "source": [
    "### Tidying titles data\n",
    "#### drop row with *NaN* value for title"
   ]
  },
  {
   "cell_type": "code",
   "execution_count": null,
   "id": "3644f933",
   "metadata": {},
   "outputs": [],
   "source": [
    "titles = titles.dropna(subset=[\"title\"])"
   ]
  },
  {
   "cell_type": "markdown",
   "id": "900bed09",
   "metadata": {},
   "source": [
    "#### Imput imdb scores"
   ]
  },
  {
   "cell_type": "code",
   "execution_count": null,
   "id": "2b71a49a",
   "metadata": {},
   "outputs": [],
   "source": [
    "impute_columns = [\"imdb_score\", \"tmdb_popularity\", \"tmdb_score\"]\n",
    "impute_df = titles[impute_columns]"
   ]
  },
  {
   "cell_type": "code",
   "execution_count": null,
   "id": "1cc46c32",
   "metadata": {},
   "outputs": [],
   "source": [
    "imp_mean = SimpleImputer(missing_values=np.nan, strategy='mean')\n",
    "titles[impute_columns] = imp_mean.fit_transform(impute_df)"
   ]
  },
  {
   "cell_type": "markdown",
   "id": "32d799b9",
   "metadata": {},
   "source": [
    "#### Drop columns age_certification and seasons"
   ]
  },
  {
   "cell_type": "code",
   "execution_count": null,
   "id": "8bb23637",
   "metadata": {},
   "outputs": [],
   "source": [
    "titles = titles.drop(columns=[\"age_certification\", \"seasons\", \"imdb_id\", \"imdb_votes\"])"
   ]
  },
  {
   "cell_type": "markdown",
   "id": "1fe93f27",
   "metadata": {},
   "source": [
    "#### Drop rows which have empty list in genres column"
   ]
  },
  {
   "cell_type": "code",
   "execution_count": null,
   "id": "578a057d",
   "metadata": {},
   "outputs": [],
   "source": [
    "titles = titles[titles.genres.str.len() != 0]"
   ]
  },
  {
   "cell_type": "markdown",
   "id": "e616094d",
   "metadata": {},
   "source": [
    "#### Drop rows which have no country"
   ]
  },
  {
   "cell_type": "code",
   "execution_count": null,
   "id": "585e6794",
   "metadata": {
    "scrolled": true
   },
   "outputs": [],
   "source": [
    "titles = titles[titles.production_countries.str.len() != 0]"
   ]
  },
  {
   "cell_type": "markdown",
   "id": "d0db5b98",
   "metadata": {},
   "source": [
    "#### Scale numeric columns"
   ]
  },
  {
   "cell_type": "code",
   "execution_count": null,
   "id": "b220fb02",
   "metadata": {},
   "outputs": [],
   "source": [
    "numeric_columns = titles.select_dtypes(include=np.number)"
   ]
  },
  {
   "cell_type": "code",
   "execution_count": null,
   "id": "4389ce46",
   "metadata": {},
   "outputs": [],
   "source": [
    "numeric_columns"
   ]
  },
  {
   "cell_type": "code",
   "execution_count": null,
   "id": "81d59950",
   "metadata": {},
   "outputs": [],
   "source": [
    "column_names_numeric = numeric_columns.columns"
   ]
  },
  {
   "cell_type": "code",
   "execution_count": null,
   "id": "5a6c6a03",
   "metadata": {},
   "outputs": [],
   "source": [
    "scaler = StandardScaler()\n",
    "titles[column_names_numeric] = scaler.fit_transform(numeric_columns)"
   ]
  },
  {
   "cell_type": "markdown",
   "id": "9e4b9ca9",
   "metadata": {},
   "source": [
    "#### Create a new row for each genre"
   ]
  },
  {
   "cell_type": "code",
   "execution_count": null,
   "id": "1653c461",
   "metadata": {
    "scrolled": true
   },
   "outputs": [],
   "source": [
    "titles = titles.explode('genres')\n",
    "titles = titles.explode('production_countries')"
   ]
  },
  {
   "cell_type": "markdown",
   "id": "90c1714a",
   "metadata": {},
   "source": [
    "#### One Hot Encoder"
   ]
  },
  {
   "cell_type": "code",
   "execution_count": null,
   "id": "7fd7957d",
   "metadata": {},
   "outputs": [],
   "source": [
    "ohe_list = [\"type\", \"genres\", \"production_countries\"]\n",
    "ohe_df = titles[ohe_list]\n",
    "titles = titles.drop(columns=ohe_list)"
   ]
  },
  {
   "cell_type": "code",
   "execution_count": null,
   "id": "6aefcb6a",
   "metadata": {},
   "outputs": [],
   "source": [
    "ohe = OneHotEncoder(sparse=False)\n",
    "ohe.fit(ohe_df)\n",
    "titles[ohe.get_feature_names_out()] = ohe.transform(ohe_df)"
   ]
  },
  {
   "cell_type": "code",
   "execution_count": null,
   "id": "15a53280",
   "metadata": {},
   "outputs": [],
   "source": [
    "X = titles.drop(columns=[\"title\", \"description\", \"id\"])\n",
    "y = titles[[\"title\"]]\n"
   ]
  },
  {
   "cell_type": "markdown",
   "id": "cd8ab3cc",
   "metadata": {},
   "source": [
    "# Sample questions"
   ]
  },
  {
   "cell_type": "markdown",
   "id": "30c770f8",
   "metadata": {},
   "source": [
    "#### Using KNN to decide which shows are closest"
   ]
  },
  {
   "cell_type": "code",
   "execution_count": null,
   "id": "bf28941e",
   "metadata": {},
   "outputs": [],
   "source": [
    "X"
   ]
  },
  {
   "cell_type": "code",
   "execution_count": null,
   "id": "060e8b35",
   "metadata": {},
   "outputs": [],
   "source": [
    "knn_model = KNeighborsRegressor().fit(X,y)"
   ]
  },
  {
   "cell_type": "code",
   "execution_count": null,
   "id": "23dc19ea",
   "metadata": {},
   "outputs": [],
   "source": [
    "X_new = X.iloc[titles[titles[\"title\"]==answer].index.values]"
   ]
  },
  {
   "cell_type": "code",
   "execution_count": null,
   "id": "224a58dc",
   "metadata": {},
   "outputs": [],
   "source": [
    "positions = knn_model.kneighbors(X_new,n_neighbors=20)[1]"
   ]
  },
  {
   "cell_type": "code",
   "execution_count": null,
   "id": "13ae13a2",
   "metadata": {},
   "outputs": [],
   "source": [
    "for position in positions[0]:\n",
    "    print(position)"
   ]
  },
  {
   "cell_type": "code",
   "execution_count": null,
   "id": "39df9282",
   "metadata": {},
   "outputs": [],
   "source": [
    "list_titles = []\n",
    "number_rounds = 0\n",
    "for position in positions[0]:\n",
    "    if number_rounds < 6:\n",
    "        if titles.iloc[position][\"title\"] not in list_titles:\n",
    "            print(titles.iloc[position][\"title\"])\n",
    "            list_titles.append(titles.iloc[position][\"title\"])\n",
    "            number_rounds += 1\n"
   ]
  },
  {
   "cell_type": "code",
   "execution_count": null,
   "id": "415454b9",
   "metadata": {},
   "outputs": [],
   "source": [
    "list_titles[1:]"
   ]
  }
 ],
 "metadata": {
  "kernelspec": {
   "display_name": "Python 3 (ipykernel)",
   "language": "python",
   "name": "python3"
  },
  "language_info": {
   "codemirror_mode": {
    "name": "ipython",
    "version": 3
   },
   "file_extension": ".py",
   "mimetype": "text/x-python",
   "name": "python",
   "nbconvert_exporter": "python",
   "pygments_lexer": "ipython3",
   "version": "3.10.6"
  },
  "toc": {
   "base_numbering": 1,
   "nav_menu": {},
   "number_sections": true,
   "sideBar": true,
   "skip_h1_title": false,
   "title_cell": "Table of Contents",
   "title_sidebar": "Contents",
   "toc_cell": false,
   "toc_position": {},
   "toc_section_display": true,
   "toc_window_display": false
  }
 },
 "nbformat": 4,
 "nbformat_minor": 5
}
